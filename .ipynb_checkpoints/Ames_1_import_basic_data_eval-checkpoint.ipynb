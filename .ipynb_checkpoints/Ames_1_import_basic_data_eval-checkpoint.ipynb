{
 "cells": [
  {
   "cell_type": "markdown",
   "id": "14754e38",
   "metadata": {},
   "source": [
    "# Ames Housing Regression Project -- SM"
   ]
  },
  {
   "cell_type": "markdown",
   "id": "d1afd189",
   "metadata": {},
   "source": [
    "## import "
   ]
  },
  {
   "cell_type": "markdown",
   "id": "612d97f0",
   "metadata": {},
   "source": [
    "**packages**"
   ]
  },
  {
   "cell_type": "code",
   "execution_count": null,
   "id": "98f3f085",
   "metadata": {},
   "outputs": [],
   "source": [
    "import pandas as pd\n",
    "import numpy as np\n"
   ]
  },
  {
   "cell_type": "code",
   "execution_count": null,
   "id": "19e1340a",
   "metadata": {},
   "outputs": [],
   "source": [
    "from sklearn.preprocessing import LabelEncoder      # Model Pre-Processing\n",
    "from sklearn.impute import SimpleImputer\n",
    "from sklearn.model_selection import train_test_split \n",
    "from sklearn.model_selection import KFold\n",
    "from sklearn.model_selection import GridSearchCV\n",
    "from sklearn.metrics import mean_absolute_error # Model Performance Analysis\n",
    "from sklearn.metrics import r2_score\n"
   ]
  },
  {
   "cell_type": "code",
   "execution_count": null,
   "id": "c97af5e3",
   "metadata": {},
   "outputs": [],
   "source": [
    "import matplotlib.pyplot as plt\n",
    "import seaborn as sns\n"
   ]
  },
  {
   "cell_type": "code",
   "execution_count": null,
   "id": "f73bef7f",
   "metadata": {},
   "outputs": [],
   "source": [
    "import statsmodels.api as sm\n"
   ]
  },
  {
   "cell_type": "code",
   "execution_count": 4,
   "id": "f89a6332",
   "metadata": {},
   "outputs": [],
   "source": [
    "from catboost import CatBoostRegressor    # Regression Models\n",
    "from xgboost import XGBRegressor\n",
    "from lightgbm import LGBMRegressor\n"
   ]
  },
  {
   "cell_type": "code",
   "execution_count": null,
   "id": "0378719f",
   "metadata": {},
   "outputs": [],
   "source": [
    "from IPython.display import display, HTML # Display Preferences\n"
   ]
  },
  {
   "cell_type": "markdown",
   "id": "ca19cbd9",
   "metadata": {},
   "source": [
    "**raw file**"
   ]
  },
  {
   "cell_type": "code",
   "execution_count": 8,
   "id": "1bea2807",
   "metadata": {},
   "outputs": [],
   "source": [
    "# Import Raw Data\n",
    "data_raw = pd.read_csv('data/Ames_Housing_Price_Data.csv')"
   ]
  },
  {
   "cell_type": "markdown",
   "id": "e7a06b14",
   "metadata": {},
   "source": [
    "**adjust display**"
   ]
  },
  {
   "cell_type": "code",
   "execution_count": 9,
   "id": "c25d49ca",
   "metadata": {},
   "outputs": [],
   "source": [
    "# Display Max Column and Rows\n",
    "pd.set_option('display.max_columns', None)\n",
    "pd.set_option('display.max_rows', None)\n"
   ]
  },
  {
   "cell_type": "code",
   "execution_count": 10,
   "id": "ac9e81ec",
   "metadata": {},
   "outputs": [
    {
     "data": {
      "text/html": [
       "\n",
       "<style>\n",
       ".output_scroll {\n",
       "    box-sizing: border-box;\n",
       "    display: block;\n",
       "    -webkit-box-sizing: border-box;\n",
       "    -moz-box-sizing: border-box;\n",
       "    max-height: 100px;\n",
       "    overflow: auto;\n",
       "}\n",
       "</style>\n"
      ],
      "text/plain": [
       "<IPython.core.display.HTML object>"
      ]
     },
     "execution_count": 10,
     "metadata": {},
     "output_type": "execute_result"
    }
   ],
   "source": [
    "# Block Output: 100px + scrolling\n",
    "HTML(\"\"\"\n",
    "<style>\n",
    ".output_scroll {\n",
    "    box-sizing: border-box;\n",
    "    display: block;\n",
    "    -webkit-box-sizing: border-box;\n",
    "    -moz-box-sizing: border-box;\n",
    "    max-height: 100px;\n",
    "    overflow: auto;\n",
    "}\n",
    "</style>\n",
    "\"\"\")\n"
   ]
  },
  {
   "cell_type": "markdown",
   "id": "e91bc1ae",
   "metadata": {},
   "source": [
    "# EDA"
   ]
  },
  {
   "cell_type": "markdown",
   "id": "37c314be",
   "metadata": {},
   "source": [
    "**The Data**"
   ]
  },
  {
   "cell_type": "markdown",
   "id": "7a89e6dc",
   "metadata": {},
   "source": [
    "**Processing Insight 1: High Dimensionality, we'll need a high dimensionality Regression Model**"
   ]
  },
  {
   "cell_type": "code",
   "execution_count": 11,
   "id": "e35860d4",
   "metadata": {},
   "outputs": [
    {
     "data": {
      "text/plain": [
       "(2580, 82)"
      ]
     },
     "execution_count": 11,
     "metadata": {},
     "output_type": "execute_result"
    }
   ],
   "source": [
    "# 82 Columns, 2580 Observations\n",
    "data_raw.shape"
   ]
  },
  {
   "cell_type": "markdown",
   "id": "f4c53c20",
   "metadata": {},
   "source": [
    "**Processing Insight 2: With 43 Objects, We'll Need to Test different Encoding Methods and some models may require ordinal processing, where order is important. We may want to log transform others**"
   ]
  },
  {
   "cell_type": "code",
   "execution_count": 12,
   "id": "9b90571b",
   "metadata": {
    "scrolled": false
   },
   "outputs": [
    {
     "data": {
      "text/plain": [
       "object     43\n",
       "int64      28\n",
       "float64    11\n",
       "dtype: int64"
      ]
     },
     "execution_count": 12,
     "metadata": {},
     "output_type": "execute_result"
    }
   ],
   "source": [
    "# 43 Object Columns: Encode\n",
    "# 28 int and 11 Float: Log\n",
    "data_raw.dtypes.value_counts()"
   ]
  },
  {
   "cell_type": "code",
   "execution_count": 44,
   "id": "a0bfe815",
   "metadata": {
    "scrolled": true
   },
   "outputs": [
    {
     "name": "stdout",
     "output_type": "stream",
     "text": [
      "LotFrontage: float64\n",
      "MasVnrArea: float64\n",
      "BsmtFinSF1: float64\n",
      "BsmtFinSF2: float64\n",
      "BsmtUnfSF: float64\n",
      "TotalBsmtSF: float64\n",
      "BsmtFullBath: float64\n",
      "BsmtHalfBath: float64\n",
      "GarageYrBlt: float64\n",
      "GarageCars: float64\n",
      "GarageArea: float64\n",
      "Unnamed: 0: int64\n",
      "PID: int64\n",
      "GrLivArea: int64\n",
      "SalePrice: int64\n",
      "MSSubClass: int64\n",
      "LotArea: int64\n",
      "OverallQual: int64\n",
      "OverallCond: int64\n",
      "YearBuilt: int64\n",
      "YearRemodAdd: int64\n",
      "1stFlrSF: int64\n",
      "2ndFlrSF: int64\n",
      "LowQualFinSF: int64\n",
      "FullBath: int64\n",
      "HalfBath: int64\n",
      "BedroomAbvGr: int64\n",
      "KitchenAbvGr: int64\n",
      "TotRmsAbvGrd: int64\n",
      "Fireplaces: int64\n",
      "WoodDeckSF: int64\n",
      "OpenPorchSF: int64\n",
      "EnclosedPorch: int64\n",
      "3SsnPorch: int64\n",
      "ScreenPorch: int64\n",
      "PoolArea: int64\n",
      "MiscVal: int64\n",
      "MoSold: int64\n",
      "YrSold: int64\n",
      "MSZoning: object\n",
      "Street: object\n",
      "Alley: object\n",
      "LotShape: object\n",
      "LandContour: object\n",
      "Utilities: object\n",
      "LotConfig: object\n",
      "LandSlope: object\n",
      "Neighborhood: object\n",
      "Condition1: object\n",
      "Condition2: object\n",
      "BldgType: object\n",
      "HouseStyle: object\n",
      "RoofStyle: object\n",
      "RoofMatl: object\n",
      "Exterior1st: object\n",
      "Exterior2nd: object\n",
      "MasVnrType: object\n",
      "ExterQual: object\n",
      "ExterCond: object\n",
      "Foundation: object\n",
      "BsmtQual: object\n",
      "BsmtCond: object\n",
      "BsmtExposure: object\n",
      "BsmtFinType1: object\n",
      "BsmtFinType2: object\n",
      "Heating: object\n",
      "HeatingQC: object\n",
      "CentralAir: object\n",
      "Electrical: object\n",
      "KitchenQual: object\n",
      "Functional: object\n",
      "FireplaceQu: object\n",
      "GarageType: object\n",
      "GarageFinish: object\n",
      "GarageQual: object\n",
      "GarageCond: object\n",
      "PavedDrive: object\n",
      "PoolQC: object\n",
      "Fence: object\n",
      "MiscFeature: object\n",
      "SaleType: object\n",
      "SaleCondition: object\n"
     ]
    }
   ],
   "source": [
    "# Get a list of tuples where each tuple is (column_name, dtype)\n",
    "column_types = list(zip(data_raw.columns, data_raw.dtypes))\n",
    "\n",
    "# Sort the list by dtype\n",
    "column_types.sort(key=lambda x: str(x[1]))\n",
    "\n",
    "# Print the column names and their data types\n",
    "for column, dtype in column_types:\n",
    "    print(f\"{column}: {dtype}\")\n"
   ]
  },
  {
   "cell_type": "code",
   "execution_count": null,
   "id": "d64ea3b8",
   "metadata": {},
   "outputs": [],
   "source": [
    "# Unnamed: 0 is not suposed to be there per Data Description, that will be remove\n"
   ]
  },
  {
   "cell_type": "code",
   "execution_count": null,
   "id": "5d65e2be",
   "metadata": {},
   "outputs": [],
   "source": [
    "# PID: property ID"
   ]
  },
  {
   "cell_type": "code",
   "execution_count": null,
   "id": "a9f9e2cf",
   "metadata": {},
   "outputs": [],
   "source": [
    "# Sales Price"
   ]
  },
  {
   "cell_type": "code",
   "execution_count": null,
   "id": "b2b8a474",
   "metadata": {},
   "outputs": [],
   "source": [
    "# MSSubClass: Identifies the type of dwelling involved in the sale.\n",
    "# BldgType: Type of dwelling\n",
    "# HouseStyle: Style of dwelling\n",
    "# YearBuilt: Original construction date\n",
    "# YearRemodAdd"
   ]
  },
  {
   "cell_type": "code",
   "execution_count": null,
   "id": "86104971",
   "metadata": {},
   "outputs": [],
   "source": [
    "# OverallQual: Rates the overall material and finish of the house\n",
    "# ExterQual: Evaluates the quality of the material on the exterior \n",
    "# HeatingQC: Heating quality and condition\n",
    "# BsmtFinType1: Rating of basement finished area\n",
    "# BsmtFinType2: Rating of basement finished area (if multiple types)\n",
    "# KitchenQual: Kitchen quality\n",
    "# FireplaceQu: Fireplace quality\n",
    "# GarageQual: Garage quality\n"
   ]
  },
  {
   "cell_type": "code",
   "execution_count": null,
   "id": "fd6ffdd6",
   "metadata": {},
   "outputs": [],
   "source": [
    "# OverallCond: Rates the overall condition of the house\n",
    "# ExterCond: Evaluates the present condition of the material on the exterior\n",
    "# BsmtCond: Evaluates the general condition of the basement\n",
    "# Functional: Home functionality (Assume typical unless deductions are warranted)\n",
    "# GarageCond: Garage condition\n"
   ]
  },
  {
   "cell_type": "code",
   "execution_count": null,
   "id": "ea7a314b",
   "metadata": {},
   "outputs": [],
   "source": [
    "# Lot Frontage: Linear feet of street connected to property\n",
    "# Lot Area: Lot size in square feet\n",
    "# LotShape: Genereal Shape of Property\n",
    "# LandContour: Flatness of the property\n",
    "# LandSlope: Slope of property\n",
    "# LotConfig: Lot configuration (inside lot, corner lot, etc)\n",
    "# Condition1: Proximity to various conditions\n",
    "# Condition2: Proximity to various conditions (if more than one is present)\n",
    "\n",
    "\n"
   ]
  },
  {
   "cell_type": "code",
   "execution_count": null,
   "id": "736fba2b",
   "metadata": {},
   "outputs": [],
   "source": [
    "# RoofStyle: Type of roof\n",
    "# RoofMatl: Roof material\n",
    "# Exterior1st: Exterior covering on house\n",
    "# Exterior2nd: Exterior covering on house (if more than one material)\n",
    "# MasVnrType: Masonry veneer type\n",
    "# Foundation: Type of foundation\n",
    "# BsmtExposure: Refers to walkout or garden level walls\n",
    "# BsmtQual: Evaluates the height of the basement\n",
    "# Fireplaces: Number of fireplaces\n",
    "    "
   ]
  },
  {
   "cell_type": "code",
   "execution_count": null,
   "id": "5e64a7f4",
   "metadata": {},
   "outputs": [],
   "source": [
    "# MasVnrArea: Masonry veneer area in square feet\n",
    "# BsmtFinSF1: Type 1 finished square feet\n",
    "# BsmtFinSF2: Type 2 finished square feet\n",
    "# BsmtUnfSF: Unfinished square feet of basement area  \n",
    "# TotalBsmtSF: Total square feet of basement area\n",
    "# 1stFlrSF: First Floor square feet\n",
    "# 2ndFlrSF: Second floor square feet\n",
    "# LowQualFinSF: Low quality finished square feet (all floors)\n",
    "# GrLivArea: Above grade (ground) living area square feet\n",
    "# GarageArea: Size of garage in square feet\n"
   ]
  },
  {
   "cell_type": "code",
   "execution_count": null,
   "id": "4d9ebd68",
   "metadata": {},
   "outputs": [],
   "source": [
    "# BsmtFullBath: Basement full bathrooms\n",
    "# BsmtHalfBath: Basement half bathrooms\n",
    "# FullBath: Full bathrooms above grade\n",
    "# HalfBath: Half baths above grade\n",
    "# Bedroom: Bedrooms above grade (does NOT include basement bedrooms)\n",
    "# Kitchen: Kitchens above grade\n",
    "# TotRmsAbvGrd: Total rooms above grade (does not include bathrooms)\n",
    "# BsmtFullBath: Basement full bathrooms\n"
   ]
  },
  {
   "cell_type": "code",
   "execution_count": null,
   "id": "0ced59a6",
   "metadata": {},
   "outputs": [],
   "source": [
    "# GarageType: Garage location\n",
    "# GarageYrBlt: Year garage was built\n",
    "# GarageFinish: Interior finish of the garage\n",
    "# GarageCars: Size of garage in car capacity\n",
    "    "
   ]
  },
  {
   "cell_type": "code",
   "execution_count": null,
   "id": "00d6e4bc",
   "metadata": {},
   "outputs": [],
   "source": [
    "# PavedDrive: Paved driveway"
   ]
  },
  {
   "cell_type": "code",
   "execution_count": null,
   "id": "2d5a9160",
   "metadata": {},
   "outputs": [],
   "source": [
    "# WoodDeckSF: Wood deck area in square feet\n",
    "# OpenPorchSF: Open porch area in square feet\n",
    "# EnclosedPorch: Enclosed porch area in square feet\n",
    "# 3SsnPorch: Three season porch area in square feet\n",
    "# ScreenPorch: Screen porch area in square feet\n"
   ]
  },
  {
   "cell_type": "code",
   "execution_count": null,
   "id": "1cf6cb79",
   "metadata": {},
   "outputs": [],
   "source": [
    "# PoolArea: Pool area in square feet\n",
    "# PoolQC: Pool quality\n"
   ]
  },
  {
   "cell_type": "code",
   "execution_count": null,
   "id": "625f6998",
   "metadata": {},
   "outputs": [],
   "source": [
    "# Fence: Fence quality"
   ]
  },
  {
   "cell_type": "code",
   "execution_count": null,
   "id": "c2f9bcbf",
   "metadata": {},
   "outputs": [],
   "source": [
    "# MiscFeature: Miscellaneous feature not covered in other categories"
   ]
  },
  {
   "cell_type": "code",
   "execution_count": null,
   "id": "c2147fd6",
   "metadata": {},
   "outputs": [],
   "source": [
    "# MiscVal: $Value of miscellaneous feature"
   ]
  },
  {
   "cell_type": "code",
   "execution_count": null,
   "id": "ff0362bf",
   "metadata": {},
   "outputs": [],
   "source": [
    "# MSZoning: Identifies the general zoning classification of the sale\n"
   ]
  },
  {
   "cell_type": "code",
   "execution_count": null,
   "id": "544f8030",
   "metadata": {},
   "outputs": [],
   "source": [
    "# Street: Type of road access to property\n",
    "# Alley:  Type of alley access to property\n",
    "# Neighborhood: Physical locations within Ames city limits\n"
   ]
  },
  {
   "cell_type": "code",
   "execution_count": 25,
   "id": "562589d4",
   "metadata": {
    "scrolled": true
   },
   "outputs": [],
   "source": [
    "# Utilities: Type of utilities available\n",
    "# Heating: Type of heating\n",
    "# CentralAir: Central air conditioning\n",
    "# Electrical: Electrical system"
   ]
  },
  {
   "cell_type": "code",
   "execution_count": null,
   "id": "8f1a44af",
   "metadata": {},
   "outputs": [],
   "source": [
    "# MoSold: Month Sold (MM)\n",
    "# YrSold: Year Sold (YYYY)\n"
   ]
  },
  {
   "cell_type": "code",
   "execution_count": null,
   "id": "ef31405d",
   "metadata": {},
   "outputs": [],
   "source": [
    "# SaleType: Type of sale\n",
    "# SaleCondition: Condition of sale"
   ]
  },
  {
   "cell_type": "code",
   "execution_count": null,
   "id": "9f73d7d8",
   "metadata": {},
   "outputs": [],
   "source": []
  }
 ],
 "metadata": {
  "kernelspec": {
   "display_name": "Python 3 (ipykernel)",
   "language": "python",
   "name": "python3"
  },
  "language_info": {
   "codemirror_mode": {
    "name": "ipython",
    "version": 3
   },
   "file_extension": ".py",
   "mimetype": "text/x-python",
   "name": "python",
   "nbconvert_exporter": "python",
   "pygments_lexer": "ipython3",
   "version": "3.9.16"
  }
 },
 "nbformat": 4,
 "nbformat_minor": 5
}
